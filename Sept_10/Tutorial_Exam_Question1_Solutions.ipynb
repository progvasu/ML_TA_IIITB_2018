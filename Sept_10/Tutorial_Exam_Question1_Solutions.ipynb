{
 "cells": [
  {
   "cell_type": "markdown",
   "metadata": {},
   "source": [
    "### Question1: Implement Multivariate Linear Regression from scratch. <br>\n",
    "\n",
    "#### Instructions for each cell are provided along with the marks they hold. Fill in the cells with your code"
   ]
  },
  {
   "cell_type": "markdown",
   "metadata": {},
   "source": [
    "Import numpy, pandas and matplotlib packages."
   ]
  },
  {
   "cell_type": "code",
   "execution_count": 1,
   "metadata": {},
   "outputs": [],
   "source": [
    "# Import packages\n",
    "import numpy as np\n",
    "import pandas as pd\n",
    "import matplotlib.pyplot as plt"
   ]
  },
  {
   "cell_type": "markdown",
   "metadata": {},
   "source": [
    "Set the seed value to 40."
   ]
  },
  {
   "cell_type": "code",
   "execution_count": 2,
   "metadata": {},
   "outputs": [],
   "source": [
    "np.random.seed(40)"
   ]
  },
  {
   "cell_type": "markdown",
   "metadata": {},
   "source": [
    "Before start building linear regression, we need to generate data. <br>\n",
    "<br>\n",
    "Generate data according to <br>\n",
    "<br>\n",
    "Y = 5*X1 + 6*X2 + 7*X3 + c + delta \n",
    "\n",
    "Generate 100 samples data."
   ]
  },
  {
   "cell_type": "code",
   "execution_count": 3,
   "metadata": {},
   "outputs": [],
   "source": [
    "# Generate data\n",
    "x1 = np.random.randn(100)\n",
    "\n",
    "x2 = np.random.randn(100)\n",
    "\n",
    "x3 = np.random.randn(100)\n",
    "\n",
    "c = 3\n",
    "\n",
    "delta = np.random.randn(100)\n",
    "\n",
    "y = 5*x1 + 6*x2 + 7*x3 + c + delta"
   ]
  },
  {
   "cell_type": "markdown",
   "metadata": {},
   "source": [
    "Create array of X which is combination of x1, x2, x3. <br>\n",
    "Remember the shape of X should be (100, 3)"
   ]
  },
  {
   "cell_type": "code",
   "execution_count": 4,
   "metadata": {},
   "outputs": [],
   "source": [
    "# Create X as mentioned above\n",
    "\n",
    "X = np.array([x1, x2, x3]).T"
   ]
  },
  {
   "cell_type": "markdown",
   "metadata": {},
   "source": [
    "Change the shape of y to (100, 1) to match dimensions."
   ]
  },
  {
   "cell_type": "code",
   "execution_count": 5,
   "metadata": {},
   "outputs": [],
   "source": [
    "# Change the shape of y\n",
    "\n",
    "y = y.reshape(-1, 1)"
   ]
  },
  {
   "cell_type": "markdown",
   "metadata": {},
   "source": [
    "You need to change X to [1, x1, x2, x3] as sir mentioned in the class to get rid of delta term in our equation.\n",
    "\n",
    "    1. Create variable ones with all ones of shape (100, 1).\n",
    "    2. Concatenate it to X."
   ]
  },
  {
   "cell_type": "code",
   "execution_count": 6,
   "metadata": {},
   "outputs": [],
   "source": [
    "# Create a varibales ones and X.\n",
    "ones = np.ones([X.shape[0],1])\n",
    "X = np.concatenate((ones,X),axis=1)"
   ]
  },
  {
   "cell_type": "markdown",
   "metadata": {},
   "source": [
    "Create the indices for training, validation and testing"
   ]
  },
  {
   "cell_type": "code",
   "execution_count": 7,
   "metadata": {},
   "outputs": [],
   "source": [
    "# Get indices of samples for training, validation and testing\n",
    "\n",
    "indices = np.random.permutation(X.shape[0])\n",
    "training_idx, val_idx, test_idx = indices[:60], indices[20:80], indices[80:100]"
   ]
  },
  {
   "cell_type": "markdown",
   "metadata": {},
   "source": [
    "Split data into:\n",
    "    1. Training data. (X_train, y_train)\n",
    "    2. Validation data. (X_val, y_val)\n",
    "    3. Testing data. (X_test, y_test)"
   ]
  },
  {
   "cell_type": "code",
   "execution_count": 8,
   "metadata": {},
   "outputs": [],
   "source": [
    "# Split X into training, validation and testing data\n",
    "\n",
    "X_train = X[training_idx]\n",
    "X_val = X[val_idx]\n",
    "X_test = X[test_idx]\n",
    "\n",
    "# Split y into training, validation and testing data\n",
    "y_train = y[training_idx]\n",
    "y_val = y[val_idx]\n",
    "y_test = y[test_idx]"
   ]
  },
  {
   "cell_type": "markdown",
   "metadata": {},
   "source": [
    "Define Initialize function to initialize weight matrix.\n",
    "\n",
    "    Input: shape of the matrix.\n",
    "    Output: weight matrix."
   ]
  },
  {
   "cell_type": "code",
   "execution_count": 9,
   "metadata": {},
   "outputs": [],
   "source": [
    "def Initialize(shape):\n",
    "    \n",
    "    return np.random.randn(shape[0], shape[1])"
   ]
  },
  {
   "cell_type": "markdown",
   "metadata": {},
   "source": [
    "Define loss function which is RMSE. \n",
    "\n",
    "    Input: X, y, theta (weight matrix).\n",
    "    Output: loss."
   ]
  },
  {
   "cell_type": "code",
   "execution_count": 10,
   "metadata": {},
   "outputs": [],
   "source": [
    "# Loss function.\n",
    "\n",
    "def loss(X,y,theta):\n",
    "    loss = np.power(((X @ theta.T)-y),2)\n",
    "    loss = np.sum(loss)/(2 * len(X))\n",
    "    return loss"
   ]
  },
  {
   "cell_type": "markdown",
   "metadata": {},
   "source": [
    "Define get_grad function to get gradients of loss function with respect to weight matrix.\n",
    "\n",
    "    Input: X, y, theta (weight matrix).\n",
    "    Ouput: gradients with respect to theta (weight matrix)."
   ]
  },
  {
   "cell_type": "code",
   "execution_count": 11,
   "metadata": {},
   "outputs": [],
   "source": [
    "# Gradient function.\n",
    "\n",
    "def get_grad(X, y, theta):\n",
    "    \n",
    "    grad = ((np.sum(X * (X @ theta.T - y), axis=0))/len(X))\n",
    "    \n",
    "    return grad"
   ]
  },
  {
   "cell_type": "markdown",
   "metadata": {},
   "source": [
    "Initialize weight matrix using Initialize function defined above."
   ]
  },
  {
   "cell_type": "code",
   "execution_count": 12,
   "metadata": {},
   "outputs": [
    {
     "data": {
      "text/plain": [
       "array([[-0.90630383,  1.67501747, -0.37994162, -0.62437774]])"
      ]
     },
     "execution_count": 12,
     "metadata": {},
     "output_type": "execute_result"
    }
   ],
   "source": [
    "# Initialize theta with necessary shape\n",
    "\n",
    "theta = Initialize([1, 4])\n",
    "theta"
   ]
  },
  {
   "cell_type": "markdown",
   "metadata": {},
   "source": [
    "Set following hyperparameters. \n",
    "\n",
    "    1. alpha (learning_rate) to 0.01 \n",
    "    2. NoOfEpochs (no of epochs) to 50"
   ]
  },
  {
   "cell_type": "code",
   "execution_count": 13,
   "metadata": {},
   "outputs": [],
   "source": [
    "# Set hyper parameters\n",
    "\n",
    "alpha = 0.01\n",
    "NoOfEpochs = 1000"
   ]
  },
  {
   "cell_type": "markdown",
   "metadata": {},
   "source": [
    "Create following variables with zeros to store training and validation loss. <br>\n",
    "    1. loss_train (variable for training loss)\n",
    "    2. loss_val (variable for validation loss"
   ]
  },
  {
   "cell_type": "code",
   "execution_count": 14,
   "metadata": {},
   "outputs": [],
   "source": [
    "# Create loss_train and loss_val\n",
    "\n",
    "loss_train = np.zeros(1000)\n",
    "loss_val = np.zeros(1000)"
   ]
  },
  {
   "cell_type": "markdown",
   "metadata": {},
   "source": [
    "It's time to update weight matrix using above defined functions. Store training and validation loss in loss_train and loss_val."
   ]
  },
  {
   "cell_type": "code",
   "execution_count": 15,
   "metadata": {},
   "outputs": [],
   "source": [
    "for i in range(NoOfEpochs):\n",
    "    \n",
    "    theta = theta - alpha*get_grad(X_train, y_train, theta)\n",
    "    loss_train[i] = loss(X_train, y_train, theta)\n",
    "    loss_val[i] = loss(X_val, y_val, theta)"
   ]
  },
  {
   "cell_type": "markdown",
   "metadata": {},
   "source": [
    "Visualize traning and validation loss with number of iterations."
   ]
  },
  {
   "cell_type": "code",
   "execution_count": 16,
   "metadata": {},
   "outputs": [
    {
     "data": {
      "image/png": "[encoded data removed]",
      "text/plain": [
       "<matplotlib.figure.Figure at 0x10eae79e8>"
      ]
     },
     "metadata": {},
     "output_type": "display_data"
    }
   ],
   "source": [
    "# Visualizing loss with number of iterations\n",
    "plt.figure(figsize=(10,5))\n",
    "plt.plot(loss_val, \"r.\", label = \"Validation Loss\")\n",
    "plt.plot(loss_train, \"b.\", label = \"Training Loss\")\n",
    "plt.title('Change in loss with iterations')\n",
    "plt.xlabel(\"Number of iterations\")\n",
    "plt.ylabel(\"loss\")\n",
    "plt.legend(); plt.show()"
   ]
  },
  {
   "cell_type": "markdown",
   "metadata": {},
   "source": [
    "Check the values of theta."
   ]
  },
  {
   "cell_type": "code",
   "execution_count": 17,
   "metadata": {},
   "outputs": [
    {
     "data": {
      "text/plain": [
       "array([[3.13510335, 4.9499505 , 6.04400555, 7.0082202 ]])"
      ]
     },
     "execution_count": 17,
     "metadata": {},
     "output_type": "execute_result"
    }
   ],
   "source": [
    "theta"
   ]
  },
  {
   "cell_type": "markdown",
   "metadata": {},
   "source": [
    "Print loss on training, validation and testing data."
   ]
  },
  {
   "cell_type": "code",
   "execution_count": 18,
   "metadata": {},
   "outputs": [
    {
     "name": "stdout",
     "output_type": "stream",
     "text": [
      "Loss on training data is:  0.40472136628307703\n",
      "Loss on validation data is:  0.43932484280473827\n",
      "Loss on test data is:  0.26374957752710815\n"
     ]
    }
   ],
   "source": [
    "print(\"Loss on training data is: \", loss(X_train, y_train, theta))\n",
    "print(\"Loss on validation data is: \", loss(X_val, y_val, theta))\n",
    "print(\"Loss on test data is: \", loss(X_test, y_test, theta))"
   ]
  }
 ],
 "metadata": {
  "kernelspec": {
   "display_name": "Python 3",
   "language": "python",
   "name": "python3"
  },
  "language_info": {
   "codemirror_mode": {
    "name": "ipython",
    "version": 3
   },
   "file_extension": ".py",
   "mimetype": "text/x-python",
   "name": "python",
   "nbconvert_exporter": "python",
   "pygments_lexer": "ipython3",
   "version": "3.5.2"
  }
 },
 "nbformat": 4,
 "nbformat_minor": 2
}
