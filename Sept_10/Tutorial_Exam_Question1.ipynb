{
 "cells": [
  {
   "cell_type": "markdown",
   "metadata": {},
   "source": [
    "### Instructions:\n",
    "\n",
    "    1. Submit your python notebooks in zip format with naming convention as:\n",
    "        \n",
    "            RollNo1_RollNo2_RollNo3.zip\n",
    "            \n",
    "    2. Cheating of any form will not be tolerated.\n",
    "    "
   ]
  },
  {
   "cell_type": "markdown",
   "metadata": {},
   "source": [
    "Fill your Team details here.<br>\n",
    "<br>\n",
    "Format: Roll Number \n",
    " \n",
    "         1.\n",
    "         2.\n",
    "         3."
   ]
  },
  {
   "cell_type": "markdown",
   "metadata": {},
   "source": [
    "### Question1: Implement Multivariate Linear Regression from scratch. <br>\n",
    "\n",
    "#### Instructions for each cell are provided along with the marks they hold. Fill in the cells with your code"
   ]
  },
  {
   "cell_type": "markdown",
   "metadata": {},
   "source": [
    "Import necessary packages."
   ]
  },
  {
   "cell_type": "code",
   "execution_count": null,
   "metadata": {},
   "outputs": [],
   "source": [
    "# Import packages\n",
    "\n",
    "# 1 Mark"
   ]
  },
  {
   "cell_type": "markdown",
   "metadata": {},
   "source": [
    "Set the seed value to 40."
   ]
  },
  {
   "cell_type": "code",
   "execution_count": null,
   "metadata": {},
   "outputs": [],
   "source": [
    "# Set seed value\n",
    "\n",
    "# 1 Mark"
   ]
  },
  {
   "cell_type": "markdown",
   "metadata": {},
   "source": [
    "Before building a linear regression model, we need to generate data. <br>\n",
    "<br>\n",
    "Generate data according to <br>\n",
    "<br>\n",
    "Y = 5*X1 + 6*X2 + 7*X3 + c + delta \n",
    "\n",
    "Generate 100 samples of data."
   ]
  },
  {
   "cell_type": "code",
   "execution_count": null,
   "metadata": {},
   "outputs": [],
   "source": [
    "# Generate data\n",
    "x1 = \n",
    "\n",
    "x2 = \n",
    "\n",
    "x3 = \n",
    "\n",
    "# constant term\n",
    "c = \n",
    "\n",
    "# delta is noise\n",
    "delta = \n",
    "\n",
    "y = 5*x1 + 6*x2 + 7*x3 + delta\n",
    "\n",
    "# 3 marks"
   ]
  },
  {
   "cell_type": "markdown",
   "metadata": {},
   "source": [
    "Create an array X which is combination of x1, x2, x3. <br>\n",
    "Remember the shape of X should be (100, 3)"
   ]
  },
  {
   "cell_type": "code",
   "execution_count": null,
   "metadata": {},
   "outputs": [],
   "source": [
    "# Create X as mentioned above\n",
    "X = \n",
    "\n",
    "# 1 Mark"
   ]
  },
  {
   "cell_type": "markdown",
   "metadata": {},
   "source": [
    "Change the shape of y to (100, 1) to match dimensions."
   ]
  },
  {
   "cell_type": "code",
   "execution_count": null,
   "metadata": {},
   "outputs": [],
   "source": [
    "# Change the shape of y\n",
    "y = \n",
    "\n",
    "# 1 Mark"
   ]
  },
  {
   "cell_type": "markdown",
   "metadata": {},
   "source": [
    "You need to change X to [1, x1, x2, x3] as sir mentioned in the class to get rid of delta term in our equation.\n",
    "\n",
    "    1. Create variable ones with all ones of shape (100, 1).\n",
    "    2. Concatenate it to X."
   ]
  },
  {
   "cell_type": "code",
   "execution_count": null,
   "metadata": {},
   "outputs": [],
   "source": [
    "# Create a varibales ones and X.\n",
    "ones = \n",
    "X = \n",
    "\n",
    "# 2 Marks"
   ]
  },
  {
   "cell_type": "markdown",
   "metadata": {},
   "source": [
    "Create the indices for training, validation and testing"
   ]
  },
  {
   "cell_type": "code",
   "execution_count": null,
   "metadata": {},
   "outputs": [],
   "source": [
    "# Get indices of samples for training, validation and testing\n",
    "training_idx, val_idx, test_idx = \n",
    "\n",
    "# 2 Marks"
   ]
  },
  {
   "cell_type": "markdown",
   "metadata": {},
   "source": [
    "Split data into:\n",
    "    1. Training data. (X_train, y_train)\n",
    "    2. Validation data. (X_val, y_val)\n",
    "    3. Testing data. (X_test, y_test)"
   ]
  },
  {
   "cell_type": "code",
   "execution_count": null,
   "metadata": {},
   "outputs": [],
   "source": [
    "# Split X into training, validation and testing data\n",
    "X_train = \n",
    "X_val = \n",
    "X_test = \n",
    "\n",
    "# Split y into training, validation and testing data\n",
    "y_train = \n",
    "y_val = \n",
    "y_test = \n",
    "\n",
    "# 2 Marks"
   ]
  },
  {
   "cell_type": "markdown",
   "metadata": {},
   "source": [
    "Define Initialize function to initialize weight matrix.\n",
    "\n",
    "    Input: shape of the matrix.\n",
    "    Output: weight matrix."
   ]
  },
  {
   "cell_type": "code",
   "execution_count": null,
   "metadata": {},
   "outputs": [],
   "source": [
    "def Initialize(shape):\n",
    "    \n",
    "    ##Write your code here.\n",
    "    \n",
    "# 3 Marks"
   ]
  },
  {
   "cell_type": "markdown",
   "metadata": {},
   "source": [
    "Define loss function which is RMSE. \n",
    "\n",
    "    Input: X, y, theta (weight matrix).\n",
    "    Output: loss."
   ]
  },
  {
   "cell_type": "code",
   "execution_count": null,
   "metadata": {},
   "outputs": [],
   "source": [
    "# Loss function\n",
    "def loss(X,y,theta):\n",
    "\n",
    "    ##Write your code here.\n",
    "    \n",
    "# 3 Marks"
   ]
  },
  {
   "cell_type": "markdown",
   "metadata": {},
   "source": [
    "Define get_grad function to get gradients of loss function with respect to weight matrix.\n",
    "\n",
    "    Input: X, y, theta (weight matrix).\n",
    "    Ouput: gradients with respect to theta (weight matrix)."
   ]
  },
  {
   "cell_type": "code",
   "execution_count": null,
   "metadata": {},
   "outputs": [],
   "source": [
    "def get_grad(X, y, theta):\n",
    "    \n",
    "    ##Write your code here.\n",
    "    \n",
    "# 5 Marks"
   ]
  },
  {
   "cell_type": "markdown",
   "metadata": {},
   "source": [
    "Initialize weight matrix using Initialize function defined above."
   ]
  },
  {
   "cell_type": "code",
   "execution_count": null,
   "metadata": {},
   "outputs": [],
   "source": [
    "# Initialize theta with necessary shape\n",
    "theta = \n",
    "theta\n",
    "\n",
    "# 1 Mark"
   ]
  },
  {
   "cell_type": "markdown",
   "metadata": {},
   "source": [
    "Set following hyperparameters. \n",
    "\n",
    "    1. alpha (learning_rate) to 0.01 \n",
    "    2. NoOfEpochs (no of epochs) to 1000"
   ]
  },
  {
   "cell_type": "code",
   "execution_count": null,
   "metadata": {},
   "outputs": [],
   "source": [
    "# Set hyper parameters\n",
    "alpha =\n",
    "NoOfEpochs = \n",
    "\n",
    "# 1 Mark"
   ]
  },
  {
   "cell_type": "markdown",
   "metadata": {},
   "source": [
    "Create following variables with zeros to store training and validation loss. <br>\n",
    "    1. loss_train (variable for training loss)\n",
    "    2. loss_val (variable for validation loss"
   ]
  },
  {
   "cell_type": "code",
   "execution_count": null,
   "metadata": {},
   "outputs": [],
   "source": [
    "# Create loss_train and loss_val\n",
    "loss_train = \n",
    "loss_val = \n",
    "\n",
    "# 2 Marks"
   ]
  },
  {
   "cell_type": "markdown",
   "metadata": {},
   "source": [
    "It's time to update weight matrix using above defined functions. Store training and validation loss in loss_train and loss_val."
   ]
  },
  {
   "cell_type": "code",
   "execution_count": null,
   "metadata": {},
   "outputs": [],
   "source": [
    "for i in range(NoOfEpochs):\n",
    "    \n",
    "    # Update theta by using alpha and get_grad function\n",
    "     \n",
    "    # Append loss on training set to loss_train\n",
    "    \n",
    "    # Append loss on validation set to loss_val\n",
    "    \n",
    "# 5 Marks"
   ]
  },
  {
   "cell_type": "markdown",
   "metadata": {},
   "source": [
    "Visualize traning and validation loss with number of iterations."
   ]
  },
  {
   "cell_type": "code",
   "execution_count": null,
   "metadata": {},
   "outputs": [],
   "source": [
    "# Visualize loss with number of iterations\n",
    "\n",
    "\n",
    "# 5 Marks"
   ]
  },
  {
   "cell_type": "markdown",
   "metadata": {},
   "source": [
    "Check the values of theta."
   ]
  },
  {
   "cell_type": "code",
   "execution_count": null,
   "metadata": {},
   "outputs": [],
   "source": [
    "theta"
   ]
  },
  {
   "cell_type": "markdown",
   "metadata": {},
   "source": [
    "Print loss on training, validation and testing data."
   ]
  },
  {
   "cell_type": "code",
   "execution_count": null,
   "metadata": {},
   "outputs": [],
   "source": [
    "print(\"Loss on training data is: \",  )\n",
    "print(\"Loss on validation data is: \", )\n",
    "print(\"Loss on test data is: \", )\n",
    "\n",
    "# 2 Mark"
   ]
  }
 ],
 "metadata": {
  "kernelspec": {
   "display_name": "Python [default]",
   "language": "python",
   "name": "python2"
  },
  "language_info": {
   "codemirror_mode": {
    "name": "ipython",
    "version": 2
   },
   "file_extension": ".py",
   "mimetype": "text/x-python",
   "name": "python",
   "nbconvert_exporter": "python",
   "pygments_lexer": "ipython2",
   "version": "2.7.15"
  }
 },
 "nbformat": 4,
 "nbformat_minor": 2
}
